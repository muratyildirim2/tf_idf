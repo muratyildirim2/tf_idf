{
 "cells": [
  {
   "cell_type": "code",
   "execution_count": 104,
   "metadata": {},
   "outputs": [],
   "source": [
    "document_1 = \"this document is document 1 created by me \"\n",
    "document_2 = \"this document is document 2 created by you\"\n",
    "\n",
    "bag_of_words_1 = document_1.split(' ')\n",
    "bag_of_words_2 = document_2.split(' ')"
   ]
  },
  {
   "cell_type": "code",
   "execution_count": 105,
   "metadata": {},
   "outputs": [
    {
     "data": {
      "text/plain": [
       "['this', 'document', 'is', 'document', '1', 'created', 'by', 'me', '']"
      ]
     },
     "execution_count": 105,
     "metadata": {},
     "output_type": "execute_result"
    }
   ],
   "source": [
    "bag_of_words_1"
   ]
  },
  {
   "cell_type": "code",
   "execution_count": 106,
   "metadata": {},
   "outputs": [
    {
     "data": {
      "text/plain": [
       "['this', 'document', 'is', 'document', '2', 'created', 'by', 'you']"
      ]
     },
     "execution_count": 106,
     "metadata": {},
     "output_type": "execute_result"
    }
   ],
   "source": [
    "bag_of_words_2"
   ]
  },
  {
   "cell_type": "code",
   "execution_count": 107,
   "metadata": {},
   "outputs": [],
   "source": [
    "unique_words = set(bag_of_words_1).union(set(bag_of_words_2))"
   ]
  },
  {
   "cell_type": "code",
   "execution_count": 108,
   "metadata": {},
   "outputs": [
    {
     "data": {
      "text/plain": [
       "{'', '1', '2', 'by', 'created', 'document', 'is', 'me', 'this', 'you'}"
      ]
     },
     "execution_count": 108,
     "metadata": {},
     "output_type": "execute_result"
    }
   ],
   "source": [
    "unique_words"
   ]
  },
  {
   "cell_type": "code",
   "execution_count": 109,
   "metadata": {},
   "outputs": [],
   "source": [
    "dict_words_1 = dict.fromkeys(unique_words,0)"
   ]
  },
  {
   "cell_type": "code",
   "execution_count": 110,
   "metadata": {},
   "outputs": [
    {
     "data": {
      "text/plain": [
       "{'': 0,\n",
       " 'is': 0,\n",
       " '1': 0,\n",
       " 'me': 0,\n",
       " 'document': 0,\n",
       " 'by': 0,\n",
       " 'this': 0,\n",
       " 'created': 0,\n",
       " '2': 0,\n",
       " 'you': 0}"
      ]
     },
     "execution_count": 110,
     "metadata": {},
     "output_type": "execute_result"
    }
   ],
   "source": [
    "dict_words_1"
   ]
  },
  {
   "cell_type": "code",
   "execution_count": 111,
   "metadata": {},
   "outputs": [],
   "source": [
    "for word in bag_of_words_1 :\n",
    "    dict_words_1[word]+=1"
   ]
  },
  {
   "cell_type": "code",
   "execution_count": 112,
   "metadata": {},
   "outputs": [
    {
     "data": {
      "text/plain": [
       "{'': 1,\n",
       " 'is': 1,\n",
       " '1': 1,\n",
       " 'me': 1,\n",
       " 'document': 2,\n",
       " 'by': 1,\n",
       " 'this': 1,\n",
       " 'created': 1,\n",
       " '2': 0,\n",
       " 'you': 0}"
      ]
     },
     "execution_count": 112,
     "metadata": {},
     "output_type": "execute_result"
    }
   ],
   "source": [
    "dict_words_1"
   ]
  },
  {
   "cell_type": "code",
   "execution_count": 113,
   "metadata": {},
   "outputs": [],
   "source": [
    "dict_words_2 = dict.fromkeys(unique_words,0)"
   ]
  },
  {
   "cell_type": "code",
   "execution_count": 114,
   "metadata": {},
   "outputs": [
    {
     "data": {
      "text/plain": [
       "{'': 0,\n",
       " 'is': 0,\n",
       " '1': 0,\n",
       " 'me': 0,\n",
       " 'document': 0,\n",
       " 'by': 0,\n",
       " 'this': 0,\n",
       " 'created': 0,\n",
       " '2': 0,\n",
       " 'you': 0}"
      ]
     },
     "execution_count": 114,
     "metadata": {},
     "output_type": "execute_result"
    }
   ],
   "source": [
    "dict_words_2"
   ]
  },
  {
   "cell_type": "code",
   "execution_count": 115,
   "metadata": {},
   "outputs": [],
   "source": [
    "for word in bag_of_words_2 :\n",
    "    dict_words_2[word]+=1"
   ]
  },
  {
   "cell_type": "code",
   "execution_count": 116,
   "metadata": {},
   "outputs": [
    {
     "data": {
      "text/plain": [
       "{'': 0,\n",
       " 'is': 1,\n",
       " '1': 0,\n",
       " 'me': 0,\n",
       " 'document': 2,\n",
       " 'by': 1,\n",
       " 'this': 1,\n",
       " 'created': 1,\n",
       " '2': 1,\n",
       " 'you': 1}"
      ]
     },
     "execution_count": 116,
     "metadata": {},
     "output_type": "execute_result"
    }
   ],
   "source": [
    "dict_words_2"
   ]
  },
  {
   "cell_type": "code",
   "execution_count": 117,
   "metadata": {},
   "outputs": [],
   "source": [
    "def term_frequency(word_dictionary, bag_of_words):\n",
    "    term_frequency_dict = {}\n",
    "    length_of_bag_of_words = len(bag_of_words)\n",
    "\n",
    "    for word,count in word_dictionary.items() :\n",
    "        term_frequency_dict[word] = count / float(length_of_bag_of_words)\n",
    "\n",
    "    return term_frequency_dict\n"
   ]
  },
  {
   "cell_type": "code",
   "execution_count": 118,
   "metadata": {},
   "outputs": [
    {
     "name": "stdout",
     "output_type": "stream",
     "text": [
      "{'': 0.1111111111111111, 'is': 0.1111111111111111, '1': 0.1111111111111111, 'me': 0.1111111111111111, 'document': 0.2222222222222222, 'by': 0.1111111111111111, 'this': 0.1111111111111111, 'created': 0.1111111111111111, '2': 0.0, 'you': 0.0}\n"
     ]
    }
   ],
   "source": [
    "print(term_frequency(dict_words_1,bag_of_words_1))"
   ]
  },
  {
   "cell_type": "code",
   "execution_count": 119,
   "metadata": {},
   "outputs": [],
   "source": [
    "final_tf_dict=term_frequency(dict_words_1,bag_of_words_1)"
   ]
  },
  {
   "cell_type": "code",
   "execution_count": 120,
   "metadata": {},
   "outputs": [
    {
     "name": "stdout",
     "output_type": "stream",
     "text": [
      "{'': 0.0, 'is': 0.125, '1': 0.0, 'me': 0.0, 'document': 0.25, 'by': 0.125, 'this': 0.125, 'created': 0.125, '2': 0.125, 'you': 0.125}\n"
     ]
    }
   ],
   "source": [
    "print(term_frequency(dict_words_2,bag_of_words_2))"
   ]
  },
  {
   "cell_type": "code",
   "execution_count": 121,
   "metadata": {},
   "outputs": [
    {
     "name": "stdout",
     "output_type": "stream",
     "text": [
      "{'': 0.0, 'is': -0.40546510810816444, '1': 0.0, 'me': 0.0, 'document': -0.40546510810816444, 'by': -0.40546510810816444, 'this': -0.40546510810816444, 'created': -0.40546510810816444, '2': 0.0, 'you': 0.0}\n"
     ]
    }
   ],
   "source": [
    "import math\n",
    "\n",
    "def compute_inverse_document_frequency(full_doc_list):\n",
    "    idf_dict = {}\n",
    "    length_of_doc_list = len(full_doc_list)\n",
    "\n",
    "    idf_dict = dict.fromkeys(full_doc_list[0].keys(), 0)\n",
    "\n",
    "    # Her terimi içeren belgelerin sayısını say\n",
    "    for doc in full_doc_list:\n",
    "        for word, value in doc.items():\n",
    "            if value > 0:\n",
    "                idf_dict[word] += 1\n",
    "\n",
    "    for word, value in idf_dict.items():\n",
    "        idf_dict[word] = math.log(length_of_doc_list / (float(value) + 1))\n",
    "\n",
    "    return idf_dict\n",
    "\n",
    "final_idf_dict = compute_inverse_document_frequency([dict_words_1, dict_words_2])\n",
    "print(final_idf_dict)"
   ]
  },
  {
   "cell_type": "code",
   "execution_count": 122,
   "metadata": {},
   "outputs": [],
   "source": [
    "def compute_tf_idf(tf_dict, idf_dict):\n",
    "    tf_idf_dict = {}\n",
    "\n",
    "    for word, tf in tf_dict.items():\n",
    "        idf = idf_dict[word]\n",
    "        tf_idf = tf * idf\n",
    "        tf_idf_dict[word] = tf_idf\n",
    "\n",
    "    return tf_idf_dict\n",
    "\n",
    "final_tf_idf = (compute_tf_idf(final_tf_dict,final_idf_dict))"
   ]
  },
  {
   "cell_type": "code",
   "execution_count": 123,
   "metadata": {},
   "outputs": [
    {
     "data": {
      "text/plain": [
       "{'': 0.0,\n",
       " 'is': -0.04505167867868493,\n",
       " '1': 0.0,\n",
       " 'me': 0.0,\n",
       " 'document': -0.09010335735736986,\n",
       " 'by': -0.04505167867868493,\n",
       " 'this': -0.04505167867868493,\n",
       " 'created': -0.04505167867868493,\n",
       " '2': 0.0,\n",
       " 'you': 0.0}"
      ]
     },
     "execution_count": 123,
     "metadata": {},
     "output_type": "execute_result"
    }
   ],
   "source": [
    "final_tf_idf"
   ]
  }
 ],
 "metadata": {
  "kernelspec": {
   "display_name": "Python 3",
   "language": "python",
   "name": "python3"
  },
  "language_info": {
   "codemirror_mode": {
    "name": "ipython",
    "version": 3
   },
   "file_extension": ".py",
   "mimetype": "text/x-python",
   "name": "python",
   "nbconvert_exporter": "python",
   "pygments_lexer": "ipython3",
   "version": "3.11.3"
  }
 },
 "nbformat": 4,
 "nbformat_minor": 2
}
